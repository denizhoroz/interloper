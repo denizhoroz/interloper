{
 "cells": [
  {
   "cell_type": "code",
   "execution_count": 1,
   "id": "870b85b3",
   "metadata": {},
   "outputs": [
    {
     "data": {
      "text/plain": [
       "True"
      ]
     },
     "execution_count": 1,
     "metadata": {},
     "output_type": "execute_result"
    }
   ],
   "source": [
    "from interloper import Translator\n",
    "import os\n",
    "import deepl\n",
    "from dotenv import load_dotenv\n",
    "load_dotenv()"
   ]
  },
  {
   "cell_type": "code",
   "execution_count": 2,
   "id": "205dbabc",
   "metadata": {},
   "outputs": [],
   "source": [
    "model = deepl.Translator(os.getenv(\"DEEPL_API_KEY\"))\n",
    "\n",
    "translator = Translator(model)"
   ]
  },
  {
   "cell_type": "code",
   "execution_count": 3,
   "id": "8bd7823f",
   "metadata": {},
   "outputs": [],
   "source": [
    "eval_res = {\n",
    "    'Grammar': {'comment': 'Human is like human', 'score': 4.5}, \n",
    "    'Vocabulary': {'comment': 'Human is like human', 'score': 7.0}, \n",
    "    'Fluency': {'comment': 'Human is like human', 'score': 8.5}, \n",
    "    'Clarity': {'comment': 'Human is like human', 'score': 9.0} \n",
    "}"
   ]
  },
  {
   "cell_type": "code",
   "execution_count": 4,
   "id": "eaade008",
   "metadata": {},
   "outputs": [],
   "source": [
    "result = translator.translate_evaluation(eval_results=eval_res)"
   ]
  },
  {
   "cell_type": "code",
   "execution_count": 6,
   "id": "1086ca47",
   "metadata": {},
   "outputs": [
    {
     "data": {
      "text/plain": [
       "{'Grammar': {'comment': 'İnsan insan gibidir', 'score': 4.5},\n",
       " 'Vocabulary': {'comment': 'İnsan insan gibidir', 'score': 7.0},\n",
       " 'Fluency': {'comment': 'İnsan insan gibidir', 'score': 8.5},\n",
       " 'Clarity': {'comment': 'İnsan insan gibidir', 'score': 9.0}}"
      ]
     },
     "execution_count": 6,
     "metadata": {},
     "output_type": "execute_result"
    }
   ],
   "source": [
    "result"
   ]
  },
  {
   "cell_type": "code",
   "execution_count": null,
   "id": "9c946dde",
   "metadata": {},
   "outputs": [],
   "source": []
  }
 ],
 "metadata": {
  "kernelspec": {
   "display_name": "venv",
   "language": "python",
   "name": "python3"
  },
  "language_info": {
   "codemirror_mode": {
    "name": "ipython",
    "version": 3
   },
   "file_extension": ".py",
   "mimetype": "text/x-python",
   "name": "python",
   "nbconvert_exporter": "python",
   "pygments_lexer": "ipython3",
   "version": "3.10.11"
  }
 },
 "nbformat": 4,
 "nbformat_minor": 5
}
